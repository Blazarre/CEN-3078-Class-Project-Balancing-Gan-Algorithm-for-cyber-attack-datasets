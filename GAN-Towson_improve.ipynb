{
 "cells": [
  {
   "cell_type": "markdown",
   "source": [
    "# Running Import Statements and ensuring GPU Support"
   ],
   "metadata": {
    "collapsed": false
   },
   "id": "16bc02c3fb613f07"
  },
  {
   "cell_type": "code",
   "execution_count": 1,
   "id": "initial_id",
   "metadata": {
    "collapsed": true,
    "ExecuteTime": {
     "end_time": "2024-04-11T19:15:04.382814Z",
     "start_time": "2024-04-11T19:15:01.075792200Z"
    }
   },
   "outputs": [
    {
     "name": "stdout",
     "output_type": "stream",
     "text": [
      "[name: \"/device:CPU:0\"\n",
      "device_type: \"CPU\"\n",
      "memory_limit: 268435456\n",
      "locality {\n",
      "}\n",
      "incarnation: 8287116046547043508\n",
      "xla_global_id: -1\n",
      ", name: \"/device:GPU:0\"\n",
      "device_type: \"GPU\"\n",
      "memory_limit: 5729419264\n",
      "locality {\n",
      "  bus_id: 1\n",
      "  links {\n",
      "  }\n",
      "}\n",
      "incarnation: 2582709493036017008\n",
      "physical_device_desc: \"device: 0, name: NVIDIA GeForce RTX 4060 Laptop GPU, pci bus id: 0000:01:00.0, compute capability: 8.9\"\n",
      "xla_global_id: 416903419\n",
      "]\n"
     ]
    }
   ],
   "source": [
    "from tensorflow.python.client import device_lib\n",
    "import numpy as np\n",
    "import pandas as pd\n",
    "import math\n",
    "import glob \n",
    "from IPython.display import clear_output\n",
    "import os \n",
    "import time\n",
    "\n",
    "import tensorflow as tf\n",
    "from keras.layers import Input, Dense, Reshape, Flatten, Dropout\n",
    "from keras.layers import BatchNormalization, Activation, ZeroPadding2D\n",
    "from keras.layers import LeakyReLU\n",
    "from keras.models import Sequential, Model, load_model\n",
    "from keras.optimizers import Adam\n",
    "from keras.wrappers.scikit_learn import KerasClassifier\n",
    "from keras.utils import np_utils\n",
    "from sklearn.model_selection import cross_val_score\n",
    "from sklearn.model_selection import cross_val_predict\n",
    "from sklearn.model_selection import KFold\n",
    "from sklearn.preprocessing import LabelEncoder\n",
    "from sklearn.pipeline import Pipeline\n",
    "from sklearn.metrics import confusion_matrix\n",
    "from sklearn.metrics import matthews_corrcoef\n",
    "from sklearn.metrics import accuracy_score, f1_score\n",
    "print(device_lib.list_local_devices())"
   ]
  },
  {
   "cell_type": "markdown",
   "source": [
    "Loading the Dataset"
   ],
   "metadata": {
    "collapsed": false
   },
   "id": "6dbd3b980448fb21"
  },
  {
   "cell_type": "code",
   "execution_count": 2,
   "outputs": [
    {
     "data": {
      "text/plain": "        flow_duration  Header_Length  Protocol Type  Duration         Rate  \\\n0            0.000000          54.00           6.00     64.00     0.329807   \n1            0.000000          57.04           6.33     64.00     4.290556   \n2            0.000000           0.00           1.00     64.00    33.396799   \n3            0.328175       76175.00          17.00     64.00  4642.133010   \n4            0.117320         101.73           6.11     65.91     6.202211   \n...               ...            ...            ...       ...          ...   \n234740       0.000000          54.00           6.00     64.00    25.224003   \n234741       0.000000           0.00           1.00     64.00     0.469918   \n234742       4.274490         107.85           6.00     64.00     0.463217   \n234743       0.130775       44335.00          17.00     64.00  6981.093452   \n234744       0.000000          54.00           6.00     64.00     1.415373   \n\n              Srate  Drate  fin_flag_number  syn_flag_number  rst_flag_number  \\\n0          0.329807    0.0             True            False             True   \n1          4.290556    0.0            False            False            False   \n2         33.396799    0.0            False            False            False   \n3       4642.133010    0.0            False            False            False   \n4          6.202211    0.0            False             True            False   \n...             ...    ...              ...              ...              ...   \n234740    25.224003    0.0            False            False            False   \n234741     0.469918    0.0            False            False            False   \n234742     0.463217    0.0            False            False            False   \n234743  6981.093452    0.0            False            False            False   \n234744     1.415373    0.0            False            False            False   \n\n        ...        Std  Tot size           IAT  Number   Magnitue     Radius  \\\n0       ...   0.000000     54.00  8.334383e+07     9.5  10.392305   0.000000   \n1       ...   2.822973     57.04  8.292607e+07     9.5  10.464666   4.010353   \n2       ...   0.000000     42.00  8.312799e+07     9.5   9.165151   0.000000   \n3       ...   0.000000     50.00  8.301570e+07     9.5  10.000000   0.000000   \n4       ...  23.113111     57.88  8.297300e+07     9.5  11.346876  32.716243   \n...     ...        ...       ...           ...     ...        ...        ...   \n234740  ...   0.000000     54.00  8.307636e+07     9.5  10.392305   0.000000   \n234741  ...   0.000000     42.00  8.312488e+07     9.5   9.165151   0.000000   \n234742  ...   0.172084     54.39  8.294658e+07     9.5  10.396218   0.246316   \n234743  ...   0.000000     50.00  8.309869e+07     9.5  10.000000   0.000000   \n234744  ...   0.000000     54.00  8.331467e+07     9.5  10.392305   0.000000   \n\n         Covariance  Variance  Weight              label  \n0          0.000000      0.00  141.55   DDoS-RSTFINFlood  \n1        160.987842      0.05  141.55      DoS-TCP_Flood  \n2          0.000000      0.00  141.55    DDoS-ICMP_Flood  \n3          0.000000      0.00  141.55      DoS-UDP_Flood  \n4       3016.808286      0.19  141.55      DoS-SYN_Flood  \n...             ...       ...     ...                ...  \n234740     0.000000      0.00  141.55     DDoS-TCP_Flood  \n234741     0.000000      0.00  141.55    DDoS-ICMP_Flood  \n234742     1.516787      0.02  141.55      DoS-TCP_Flood  \n234743     0.000000      0.00  141.55     DDoS-UDP_Flood  \n234744     0.000000      0.00  141.55  DDoS-PSHACK_Flood  \n\n[46686579 rows x 47 columns]",
      "text/html": "<div>\n<style scoped>\n    .dataframe tbody tr th:only-of-type {\n        vertical-align: middle;\n    }\n\n    .dataframe tbody tr th {\n        vertical-align: top;\n    }\n\n    .dataframe thead th {\n        text-align: right;\n    }\n</style>\n<table border=\"1\" class=\"dataframe\">\n  <thead>\n    <tr style=\"text-align: right;\">\n      <th></th>\n      <th>flow_duration</th>\n      <th>Header_Length</th>\n      <th>Protocol Type</th>\n      <th>Duration</th>\n      <th>Rate</th>\n      <th>Srate</th>\n      <th>Drate</th>\n      <th>fin_flag_number</th>\n      <th>syn_flag_number</th>\n      <th>rst_flag_number</th>\n      <th>...</th>\n      <th>Std</th>\n      <th>Tot size</th>\n      <th>IAT</th>\n      <th>Number</th>\n      <th>Magnitue</th>\n      <th>Radius</th>\n      <th>Covariance</th>\n      <th>Variance</th>\n      <th>Weight</th>\n      <th>label</th>\n    </tr>\n  </thead>\n  <tbody>\n    <tr>\n      <th>0</th>\n      <td>0.000000</td>\n      <td>54.00</td>\n      <td>6.00</td>\n      <td>64.00</td>\n      <td>0.329807</td>\n      <td>0.329807</td>\n      <td>0.0</td>\n      <td>True</td>\n      <td>False</td>\n      <td>True</td>\n      <td>...</td>\n      <td>0.000000</td>\n      <td>54.00</td>\n      <td>8.334383e+07</td>\n      <td>9.5</td>\n      <td>10.392305</td>\n      <td>0.000000</td>\n      <td>0.000000</td>\n      <td>0.00</td>\n      <td>141.55</td>\n      <td>DDoS-RSTFINFlood</td>\n    </tr>\n    <tr>\n      <th>1</th>\n      <td>0.000000</td>\n      <td>57.04</td>\n      <td>6.33</td>\n      <td>64.00</td>\n      <td>4.290556</td>\n      <td>4.290556</td>\n      <td>0.0</td>\n      <td>False</td>\n      <td>False</td>\n      <td>False</td>\n      <td>...</td>\n      <td>2.822973</td>\n      <td>57.04</td>\n      <td>8.292607e+07</td>\n      <td>9.5</td>\n      <td>10.464666</td>\n      <td>4.010353</td>\n      <td>160.987842</td>\n      <td>0.05</td>\n      <td>141.55</td>\n      <td>DoS-TCP_Flood</td>\n    </tr>\n    <tr>\n      <th>2</th>\n      <td>0.000000</td>\n      <td>0.00</td>\n      <td>1.00</td>\n      <td>64.00</td>\n      <td>33.396799</td>\n      <td>33.396799</td>\n      <td>0.0</td>\n      <td>False</td>\n      <td>False</td>\n      <td>False</td>\n      <td>...</td>\n      <td>0.000000</td>\n      <td>42.00</td>\n      <td>8.312799e+07</td>\n      <td>9.5</td>\n      <td>9.165151</td>\n      <td>0.000000</td>\n      <td>0.000000</td>\n      <td>0.00</td>\n      <td>141.55</td>\n      <td>DDoS-ICMP_Flood</td>\n    </tr>\n    <tr>\n      <th>3</th>\n      <td>0.328175</td>\n      <td>76175.00</td>\n      <td>17.00</td>\n      <td>64.00</td>\n      <td>4642.133010</td>\n      <td>4642.133010</td>\n      <td>0.0</td>\n      <td>False</td>\n      <td>False</td>\n      <td>False</td>\n      <td>...</td>\n      <td>0.000000</td>\n      <td>50.00</td>\n      <td>8.301570e+07</td>\n      <td>9.5</td>\n      <td>10.000000</td>\n      <td>0.000000</td>\n      <td>0.000000</td>\n      <td>0.00</td>\n      <td>141.55</td>\n      <td>DoS-UDP_Flood</td>\n    </tr>\n    <tr>\n      <th>4</th>\n      <td>0.117320</td>\n      <td>101.73</td>\n      <td>6.11</td>\n      <td>65.91</td>\n      <td>6.202211</td>\n      <td>6.202211</td>\n      <td>0.0</td>\n      <td>False</td>\n      <td>True</td>\n      <td>False</td>\n      <td>...</td>\n      <td>23.113111</td>\n      <td>57.88</td>\n      <td>8.297300e+07</td>\n      <td>9.5</td>\n      <td>11.346876</td>\n      <td>32.716243</td>\n      <td>3016.808286</td>\n      <td>0.19</td>\n      <td>141.55</td>\n      <td>DoS-SYN_Flood</td>\n    </tr>\n    <tr>\n      <th>...</th>\n      <td>...</td>\n      <td>...</td>\n      <td>...</td>\n      <td>...</td>\n      <td>...</td>\n      <td>...</td>\n      <td>...</td>\n      <td>...</td>\n      <td>...</td>\n      <td>...</td>\n      <td>...</td>\n      <td>...</td>\n      <td>...</td>\n      <td>...</td>\n      <td>...</td>\n      <td>...</td>\n      <td>...</td>\n      <td>...</td>\n      <td>...</td>\n      <td>...</td>\n      <td>...</td>\n    </tr>\n    <tr>\n      <th>234740</th>\n      <td>0.000000</td>\n      <td>54.00</td>\n      <td>6.00</td>\n      <td>64.00</td>\n      <td>25.224003</td>\n      <td>25.224003</td>\n      <td>0.0</td>\n      <td>False</td>\n      <td>False</td>\n      <td>False</td>\n      <td>...</td>\n      <td>0.000000</td>\n      <td>54.00</td>\n      <td>8.307636e+07</td>\n      <td>9.5</td>\n      <td>10.392305</td>\n      <td>0.000000</td>\n      <td>0.000000</td>\n      <td>0.00</td>\n      <td>141.55</td>\n      <td>DDoS-TCP_Flood</td>\n    </tr>\n    <tr>\n      <th>234741</th>\n      <td>0.000000</td>\n      <td>0.00</td>\n      <td>1.00</td>\n      <td>64.00</td>\n      <td>0.469918</td>\n      <td>0.469918</td>\n      <td>0.0</td>\n      <td>False</td>\n      <td>False</td>\n      <td>False</td>\n      <td>...</td>\n      <td>0.000000</td>\n      <td>42.00</td>\n      <td>8.312488e+07</td>\n      <td>9.5</td>\n      <td>9.165151</td>\n      <td>0.000000</td>\n      <td>0.000000</td>\n      <td>0.00</td>\n      <td>141.55</td>\n      <td>DDoS-ICMP_Flood</td>\n    </tr>\n    <tr>\n      <th>234742</th>\n      <td>4.274490</td>\n      <td>107.85</td>\n      <td>6.00</td>\n      <td>64.00</td>\n      <td>0.463217</td>\n      <td>0.463217</td>\n      <td>0.0</td>\n      <td>False</td>\n      <td>False</td>\n      <td>False</td>\n      <td>...</td>\n      <td>0.172084</td>\n      <td>54.39</td>\n      <td>8.294658e+07</td>\n      <td>9.5</td>\n      <td>10.396218</td>\n      <td>0.246316</td>\n      <td>1.516787</td>\n      <td>0.02</td>\n      <td>141.55</td>\n      <td>DoS-TCP_Flood</td>\n    </tr>\n    <tr>\n      <th>234743</th>\n      <td>0.130775</td>\n      <td>44335.00</td>\n      <td>17.00</td>\n      <td>64.00</td>\n      <td>6981.093452</td>\n      <td>6981.093452</td>\n      <td>0.0</td>\n      <td>False</td>\n      <td>False</td>\n      <td>False</td>\n      <td>...</td>\n      <td>0.000000</td>\n      <td>50.00</td>\n      <td>8.309869e+07</td>\n      <td>9.5</td>\n      <td>10.000000</td>\n      <td>0.000000</td>\n      <td>0.000000</td>\n      <td>0.00</td>\n      <td>141.55</td>\n      <td>DDoS-UDP_Flood</td>\n    </tr>\n    <tr>\n      <th>234744</th>\n      <td>0.000000</td>\n      <td>54.00</td>\n      <td>6.00</td>\n      <td>64.00</td>\n      <td>1.415373</td>\n      <td>1.415373</td>\n      <td>0.0</td>\n      <td>False</td>\n      <td>False</td>\n      <td>False</td>\n      <td>...</td>\n      <td>0.000000</td>\n      <td>54.00</td>\n      <td>8.331467e+07</td>\n      <td>9.5</td>\n      <td>10.392305</td>\n      <td>0.000000</td>\n      <td>0.000000</td>\n      <td>0.00</td>\n      <td>141.55</td>\n      <td>DDoS-PSHACK_Flood</td>\n    </tr>\n  </tbody>\n</table>\n<p>46686579 rows × 47 columns</p>\n</div>"
     },
     "execution_count": 2,
     "metadata": {},
     "output_type": "execute_result"
    }
   ],
   "source": [
    "rel_path = '/archive/'          # If your dataset is within your python project directory, change this to the relative path to your dataset\n",
    "path = os.getcwd() + rel_path   # If your dataset is somewhere else, change this to that path\n",
    "csv_filepaths = glob.glob(os.path.join(path, \"*.csv\"))  # Makes a list of all CSVs within the directory above\n",
    "\n",
    "csv_filepaths = csv_filepaths[:40]\n",
    "\n",
    "# Features that hold values 0/1.\n",
    "column_datatypes = { 'fin_flag_number': 'bool', 'syn_flag_number': 'bool', 'rst_flag_number': 'bool',\n",
    "                     'psh_flag_number': 'bool', 'ack_flag_number': 'bool', 'ece_flag_number': 'bool',\n",
    "                     'cwr_flag_number': 'bool', \n",
    "                     'HTTP': 'bool', 'HTTPS': 'bool', 'DNS': 'bool', 'Telnet': 'bool', 'SMTP': 'bool',\n",
    "                     'SSH': 'bool',  'IRC': 'bool',   'TCP': 'bool', 'UDP': 'bool',    'DHCP': 'bool',\n",
    "                     'ARP': 'bool',  'ICMP': 'bool',  'IPv': 'bool', 'LLC': 'bool'\n",
    "                   }\n",
    "\n",
    "# Load the first csv file\n",
    "df = pd.read_csv(csv_filepaths[0]).astype(column_datatypes)\n",
    "\n",
    "# Load csv files in 10-file batches \n",
    "batch_size = 10\n",
    "\n",
    "for i in range(1, len(csv_filepaths)):\n",
    "    clear_output(wait=False) # Pretty output\n",
    "    print(f'Loading CSV {i}')\n",
    "    \n",
    "    # First file of each batch, restart the batch list\n",
    "    if i % batch_size == 1:\n",
    "        batch = [df]\n",
    "    \n",
    "    batch.append(pd.read_csv(csv_filepaths[i]).astype(column_datatypes))    # Load a CSV and change relevant columns to bools\n",
    "    \n",
    "    # every #batch_size# file, add it to the df dataframe\n",
    "    if i % batch_size == 0:\n",
    "        df = pd.concat(batch)\n",
    "        batch.clear()   # Get rid of old batch files to free memory\n",
    "        print(f'Loaded to {i}')\n",
    "\n",
    "# Load any remaining data in batch\n",
    "if len(batch) != 0:\n",
    "    print(\"Loading data from final batch.\")\n",
    "    df = pd.concat(batch)\n",
    "\n",
    "clear_output(wait=False)\n",
    "del batch\n",
    "\n",
    "df"
   ],
   "metadata": {
    "collapsed": false
   },
   "id": "a6107541190bd38e"
  },
  {
   "cell_type": "markdown",
   "source": [
    "Dataframe Memory Size"
   ],
   "metadata": {
    "collapsed": false
   },
   "id": "d196c76ad9f33c54"
  },
  {
   "cell_type": "code",
   "execution_count": 3,
   "outputs": [
    {
     "name": "stdout",
     "output_type": "stream",
     "text": [
      "11.064719223 gb\n"
     ]
    }
   ],
   "source": [
    "tot_mem = df.memory_usage().sum()\n",
    "print(f'{tot_mem / 1000000000} gb')"
   ],
   "metadata": {
    "collapsed": false,
    "ExecuteTime": {
     "end_time": "2024-04-11T19:30:15.924215500Z",
     "start_time": "2024-04-11T19:30:15.891653600Z"
    }
   },
   "id": "22923238d1d94197"
  },
  {
   "cell_type": "markdown",
   "source": [
    "Encoding labels"
   ],
   "metadata": {
    "collapsed": false
   },
   "id": "64aaa3e725257871"
  },
  {
   "cell_type": "code",
   "execution_count": 1,
   "outputs": [],
   "source": [
    "label_maps = { 'Backdoor_Malware': 0,         'BenignTraffic': 1,           'BrowserHijacking': 2,\n",
    "               'CommandInjection': 3,         'DDoS-ACK_Fragmentation': 4,  'DDoS-HTTP_Flood': 5,\n",
    "               'DDoS-ICMP_Flood': 6,          'DDoS-ICMP_Fragmentation': 7, 'DDoS-PSHACK_Flood': 8,\n",
    "               'DDoS-RSTFINFlood': 9,         'DDoS-SYN_Flood': 10,         'DDoS-SlowLoris': 11,\n",
    "               'DDoS-SynonymousIP_Flood': 12, 'DDoS-TCP_Flood': 13,         'DDoS-UDP_Flood': 14,\n",
    "               'DDoS-UDP_Fragmentation': 15,  'DNS_Spoofing': 16,           'DictionaryBruteForce': 17,\n",
    "               'DoS-HTTP_Flood': 18,          'DoS-SYN_Flood': 19,          'DoS-TCP_Flood': 20,\n",
    "               'DoS-UDP_Flood': 21,           'MITM-ArpSpoofing': 22,       'Mirai-greeth_flood': 23,\n",
    "               'Mirai-greip_flood': 24,       'Mirai-udpplain': 25,         'Recon-HostDiscovery': 26,\n",
    "               'Recon-OSScan': 27,            'Recon-PingSweep': 28,        'Recon-PortScan': 29,\n",
    "               'SqlInjection': 30,            'Uploading_Attack': 31,       'VulnerabilityScan': 32, \n",
    "               'XSS': 33\n",
    "             }\n",
    "\n",
    "df['label'] = df['label'].map(label_maps)\n",
    "\n",
    "df"
   ],
   "metadata": {
    "collapsed": false,
    "ExecuteTime": {
     "end_time": "2024-04-14T21:20:41.623435100Z",
     "start_time": "2024-04-14T21:20:41.607379800Z"
    }
   },
   "id": "5c4230b84755fee9"
  },
  {
   "cell_type": "markdown",
   "source": [
    "# Model"
   ],
   "metadata": {
    "collapsed": false
   },
   "id": "a6a63563bc6cf116"
  },
  {
   "cell_type": "markdown",
   "source": [
    "### Hyper-Parameters"
   ],
   "metadata": {
    "collapsed": false
   },
   "id": "27e2bd6be73552dd"
  },
  {
   "cell_type": "code",
   "execution_count": null,
   "outputs": [],
   "source": [
    "# Define the number of neurons in the initial layer of the generator\n",
    "input_shape = 46\n",
    "num_epochs = 2\n",
    "batch_size = 256 # Define your batch size here\n",
    "num_samples = 100\n",
    "epochs = 7000\n",
    "critic_updates = 5  # Number of critic updates per generator update\n",
    "specific_attack_classes = [0, 1, 2, 3, 4 , 5, 6, 7, 8, 9, 10, 11, 12, 13, 14, 15, 16, 17, 18, 19, 20, 21, 22, 23, 24, 25, 26, 27, 28, 29, 30, 31, 32, 33]\n",
    "num_classes = len(specific_attack_classes)\n",
    "\n",
    "result = df"
   ],
   "metadata": {
    "collapsed": false
   },
   "id": "51af0bb4842459d"
  },
  {
   "cell_type": "markdown",
   "source": [
    "### Towson Normal GAN Structure"
   ],
   "metadata": {
    "collapsed": false
   },
   "id": "54b3b7de14e652cc"
  },
  {
   "cell_type": "code",
   "execution_count": null,
   "outputs": [],
   "source": [
    "# GAN class\n",
    "# This class contains the generator and discriminator models, as well as the training loop for the GAN\n",
    "class GAN:\n",
    "    def __init__(self, hidden1, hidden2, hidden3, input_shape, num_classes):\n",
    "        # store the parameters as instance variables\n",
    "        self.hidden1 = hidden1\n",
    "        self.hidden2 = hidden2\n",
    "        self.hidden3 = hidden3\n",
    "        self.input_shape = input_shape\n",
    "        self.num_classes = num_classes\n",
    "\n",
    "        # build the generator and discriminator\n",
    "        self.generator = self.build_generator(self.hidden1, self.hidden2, self.hidden3, self.input_shape)\n",
    "        self.discriminator = self.build_discriminator()\n",
    "\n",
    "        # compile the generator and discriminator\n",
    "        optimizer = Adam(0.0002, 0.5)\n",
    "        self.generator.compile(optimizer=optimizer, loss='binary_crossentropy')\n",
    "        self.discriminator.compile(optimizer=optimizer, loss='binary_crossentropy', metrics=['accuracy'])\n",
    "\n",
    "\n",
    "    def build_generator(self, hidden1, hidden2, hidden3, input_dim):\n",
    "        model = Sequential()\n",
    "        model.add(Dense(hidden1, input_dim=input_dim))  \n",
    "        model.add(LeakyReLU(alpha=0.2))\n",
    "        model.add(BatchNormalization(momentum=0.8))\n",
    "        model.add(Dense(hidden2))\n",
    "        model.add(LeakyReLU(alpha=0.2))\n",
    "        model.add(BatchNormalization(momentum=0.8))\n",
    "        model.add(Dense(hidden3))\n",
    "        model.add(LeakyReLU(alpha=0.2))\n",
    "        model.add(BatchNormalization(momentum=0.8))\n",
    "        model.add(Dense(input_dim, activation='relu'))  # Changed from output_dim to input_dim\n",
    "\n",
    "        noise = Input(shape=(input_dim,))\n",
    "        attack = model(noise)\n",
    "        return Model(noise, attack)\n",
    "\n",
    "    def build_discriminator(self):\n",
    "        model = Sequential()\n",
    "        model.add(Dense(input_shape, input_dim=input_shape, activation='relu'))  \n",
    "        model.add(Dense(30, activation='relu'))\n",
    "        model.add(Dense(15, activation='relu'))\n",
    "        model.add(Dense(1, activation='sigmoid'))  \n",
    "\n",
    "        attack = Input(shape=(input_shape,))\n",
    "        validity = model(attack)\n",
    "\n",
    "        return Model(attack, validity)\n",
    "    \n",
    "   \n",
    "    def discriminator_loss(self, real_output, fake_output):\n",
    "        return tf.reduce_mean(fake_output) - tf.reduce_mean(real_output)\n",
    "\n",
    "    def generator_loss(self, fake_output):\n",
    "        return -tf.reduce_mean(fake_output)\n",
    "\n",
    "\n",
    "    def trainGAN(self, gen_hidden1, gen_hidden2, gen_hidden3, input_dim):\n",
    "        optimizer = Adam(0.0002, 0.5)\n",
    "        \n",
    "        # Directly use 'result' DataFrame. Ensure it's accessible within this scope.\n",
    "        # Sampling 500 data points randomly from 'result'\n",
    "        sampled_df = result.sample(500)\n",
    "\n",
    "        # Encode labels if not already encoded. Assuming 'label' needs encoding.\n",
    "        # le = LabelEncoder()\n",
    "        # sampled_df['label'] = le.fit_transform(sampled_df['label'])\n",
    "    \n",
    "        # Splitting the data into features and labels\n",
    "        X_train = sampled_df.drop('label', axis=1).values.astype(float)\n",
    "        Y_train = sampled_df['label'].values\n",
    "\n",
    "        # Setting up labels for valid (real) and fake data for training\n",
    "        valid = np.ones((batch_size, 1))\n",
    "        fake = np.zeros((batch_size, 1))\n",
    "\n",
    "        # Building the discriminator\n",
    "        discriminator = self.build_discriminator()\n",
    "        discriminator.compile(loss='binary_crossentropy', optimizer=optimizer, metrics=['accuracy'])\n",
    "\n",
    "        # Building the generator\n",
    "        generator = self.build_generator(gen_hidden1, gen_hidden2, gen_hidden3, input_dim)\n",
    "\n",
    "        # Setting up the combined model\n",
    "        z = Input(shape=(input_shape,))\n",
    "        attack = generator(z)\n",
    "        validity = discriminator(attack)\n",
    "        combined = Model(z, validity)\n",
    "        combined.compile(loss='binary_crossentropy', optimizer=optimizer)\n",
    "\n",
    "        for epoch in range(epochs):\n",
    "            # Train Discriminator\n",
    "            idx = np.random.randint(0, X_train.shape[0], batch_size)\n",
    "            real_attacks = X_train[idx]\n",
    "\n",
    "            noise = tf.random.normal((batch_size, input_shape))\n",
    "            gen_attacks = generator.predict(noise)\n",
    "\n",
    "            d_loss_real = discriminator.train_on_batch(real_attacks, valid)\n",
    "            d_loss_fake = discriminator.train_on_batch(gen_attacks, fake)\n",
    "            d_loss = 0.5 * np.add(d_loss_real, d_loss_fake)\n",
    "\n",
    "            # Train Generator\n",
    "            g_loss = combined.train_on_batch(noise, valid)\n",
    "\n",
    "            if epoch % 100 == 0:\n",
    "                print(f\"{epoch} [D loss: {d_loss[0]}, acc.: {100*d_loss[1]}%] [G loss: {g_loss}]\")"
   ],
   "metadata": {
    "collapsed": false
   },
   "id": "e440bc51ca32170f"
  },
  {
   "cell_type": "markdown",
   "source": [
    "### GAN Setup & Training Prep"
   ],
   "metadata": {
    "collapsed": false
   },
   "id": "26106e7d66f68152"
  },
  {
   "cell_type": "code",
   "execution_count": null,
   "outputs": [],
   "source": [
    "# le = LabelEncoder()\n",
    "# result['label'] = le.fit_transform(result['label'])\n",
    "\n",
    "# Randomly select hidden layer sizes for the generator\n",
    "gen_hidden1 = np.random.randint(1, 101)\n",
    "gen_hidden2 = np.random.randint(1, 101)\n",
    "gen_hidden3 = np.random.randint(1, 101)\n",
    "\n",
    "# Create the GAN with the selected hidden layer sizes\n",
    "gan = GAN(gen_hidden1, gen_hidden2, gen_hidden3, input_shape, num_classes)\n",
    "\n",
    "clear_output(wait=False)\n",
    "\n",
    "print(\"Hidden Layers: \", gen_hidden1, gen_hidden2, gen_hidden3)"
   ],
   "metadata": {
    "collapsed": false
   },
   "id": "82b6150bc0837309"
  },
  {
   "cell_type": "markdown",
   "source": [
    "# RUN GAN Training"
   ],
   "metadata": {
    "collapsed": false
   },
   "id": "bd6995f4eee9f52c"
  },
  {
   "cell_type": "code",
   "execution_count": null,
   "outputs": [],
   "source": [
    "# Call the trainGAN function directly to start training\n",
    "print(\"Training GAN with hidden layers: \", gen_hidden1, gen_hidden2, gen_hidden3)\n",
    "\n",
    "# Start the timer\n",
    "start_time = time.time()\n",
    "\n",
    "gan.trainGAN(gen_hidden1, gen_hidden2, gen_hidden3, input_shape)\n",
    "\n",
    "end_time = time.time()\n",
    "\n",
    "clear_output(wait=False)\n",
    "print(\"Training GAN with hidden layers: \", gen_hidden1, gen_hidden2, gen_hidden3)\n",
    "print(\"Training Complete in {:.2f} seconds!!!\".format(end_time - start_time))"
   ],
   "metadata": {
    "collapsed": false
   },
   "id": "b38ec80b1a28cac2"
  },
  {
   "cell_type": "markdown",
   "source": [
    "# Training Evaluation"
   ],
   "metadata": {
    "collapsed": false
   },
   "id": "d4f19b5928dd91b7"
  },
  {
   "cell_type": "code",
   "execution_count": null,
   "outputs": [],
   "source": [
    "def getAccuracies()  :\n",
    "    accuracy_scores = []\n",
    "    f1_scores = []\n",
    "    for i in range(100) :\n",
    "        # Generate samples from the trained generator\n",
    "        noise = tf.random.normal((num_samples, input_shape))\n",
    "        generated_samples = gan.generator(noise)\n",
    "\n",
    "        # Pass the generated samples through the discriminator\n",
    "        discriminator_predictions = gan.discriminator.predict(generated_samples)\n",
    "\n",
    "        # The ideal output for generated samples is 1\n",
    "        ideal_output = np.ones((num_samples,))\n",
    "\n",
    "        # Correcting the prediction rounding\n",
    "        discriminator_predictions_rounded = np.round(discriminator_predictions).flatten()\n",
    "\n",
    "        # Now, calculating the accuracy should not throw an error\n",
    "        accuracy = accuracy_score(ideal_output, discriminator_predictions_rounded)\n",
    "        f1 = f1_score(ideal_output, discriminator_predictions_rounded)\n",
    "        accuracy_scores.append(accuracy)\n",
    "        f1_scores.append(f1)\n",
    "    \n",
    "    accuracy = np.mean(accuracy_scores)\n",
    "    f1 = np.mean(f1_scores)\n",
    "    return accuracy, f1"
   ],
   "metadata": {
    "collapsed": false
   },
   "id": "6995ec92cf76edf9"
  },
  {
   "cell_type": "code",
   "execution_count": null,
   "outputs": [],
   "source": [
    "accuracy,f1 = getAccuracies()\n",
    "\n",
    "clear_output(wait=False)\n",
    "print(\"Accuracy: \", accuracy)\n",
    "print(\"F1 Score: \", f1)"
   ],
   "metadata": {
    "collapsed": false
   },
   "id": "42fa4db54138ec5"
  },
  {
   "cell_type": "markdown",
   "source": [
    "# Save Model"
   ],
   "metadata": {
    "collapsed": false
   },
   "id": "7f6e6d9c140d7dff"
  },
  {
   "cell_type": "code",
   "execution_count": null,
   "outputs": [],
   "source": [
    "generator_save_path = \"../model/generator\"\n",
    "discriminator_save_path = \"../model/discriminator\"\n",
    "\n",
    "# Save the generator\n",
    "gan.generator.save(generator_save_path)\n",
    "# Save the discriminator\n",
    "gan.discriminator.save(discriminator_save_path)"
   ],
   "metadata": {
    "collapsed": false
   },
   "id": "abe8ec4c379f2369"
  },
  {
   "cell_type": "markdown",
   "source": [
    "# Load Model"
   ],
   "metadata": {
    "collapsed": false
   },
   "id": "f6a9e36b9e08ee5f"
  },
  {
   "cell_type": "code",
   "execution_count": null,
   "outputs": [],
   "source": [
    "generator_load_path = \"../model/comp_sec/generator\"\n",
    "discriminator_load_path = \"../model/comp_sec/discriminator\"\n",
    "\n",
    "gan.generator = load_model(generator_load_path)\n",
    "gan.discriminator = load_model(discriminator_load_path)\n",
    "\n",
    "gan.generator.summary()\n",
    "gan.discriminator.summary()"
   ],
   "metadata": {
    "collapsed": false
   },
   "id": "3d47a79ec79641d9"
  },
  {
   "cell_type": "markdown",
   "source": [
    "# Test Evaluation"
   ],
   "metadata": {
    "collapsed": false
   },
   "id": "5994216370e2cbc3"
  },
  {
   "cell_type": "markdown",
   "source": [
    "Will continue to run until a better model is found"
   ],
   "metadata": {
    "collapsed": false
   },
   "id": "35c8dc981fd83dae"
  },
  {
   "cell_type": "code",
   "execution_count": null,
   "outputs": [],
   "source": [
    "class Looper:\n",
    "    def random_numbers(self):\n",
    "        gen_hidden1 = np.random.randint(1, 101)\n",
    "        gen_hidden2 = np.random.randint(1, 101)\n",
    "        gen_hidden3 = np.random.randint(1, 101)\n",
    "        return [gen_hidden1, gen_hidden2, gen_hidden3]\n",
    "    \n",
    "    def evaluate(gan):\n",
    "        noise = tf.random.normal((num_samples, input_shape))\n",
    "        generated_samples = gan.generator(noise)\n",
    "        discriminator_predictions = gan.discriminator.predict(generated_samples)\n",
    "        ideal_output = np.ones((num_samples,))\n",
    "        discriminator_predictions_rounded = np.round(discriminator_predictions).flatten()\n",
    "        ideal_output = np.ones((num_samples,))\n",
    "        accuracy = accuracy_score(ideal_output, discriminator_predictions_rounded)\n",
    "        f1 = f1_score(ideal_output, discriminator_predictions_rounded)\n",
    "        return accuracy, f1\n",
    "    \n",
    "    def save(gan):\n",
    "        generator_save_path = \"model/best_generator\"\n",
    "        discriminator_save_path = \"model/best_discriminator\"\n",
    "        gan.generator.save(generator_save_path)\n",
    "        gan.discriminator.save(discriminator_save_path)"
   ],
   "metadata": {
    "collapsed": false
   },
   "id": "5054a1c9e3dbf41a"
  },
  {
   "cell_type": "markdown",
   "source": [
    "# Final Reuslt From Experiment"
   ],
   "metadata": {
    "collapsed": false
   },
   "id": "2fedb5448092be35"
  },
  {
   "cell_type": "code",
   "execution_count": null,
   "outputs": [],
   "source": [
    "if gan is None:\n",
    "    best_accuracy = 0\n",
    "    best_f1 = 0\n",
    "else:\n",
    "    best_accuracy, best_f1 = Looper.evaluate(gan)\n",
    "\n",
    "while (True):\n",
    "    # Randomly select hidden layer sizes for the generator\n",
    "    [gen_hidden1, gen_hidden2, gen_hidden3] = Looper.random_numbers()\n",
    "\n",
    "    # Create the GAN with the selected hidden layer sizes\n",
    "    gan = GAN(gen_hidden1, gen_hidden2, gen_hidden3, input_shape, num_classes)\n",
    "    # Call the trainGAN function directly to start training\n",
    "    gan.trainGAN(gen_hidden1, gen_hidden2, gen_hidden3, input_shape)\n",
    "    accuracy, f1 = getAccuracies(gan)   \n",
    "    print(\"Accuracy: \", accuracy, \"F1 Score: \", f1, \"Hidden Layers: \", gen_hidden1, gen_hidden2, gen_hidden3)\n",
    "    if accuracy > best_accuracy:\n",
    "        best_accuracy = accuracy\n",
    "        best_f1 = f1\n",
    "        Looper.save(gan)\n",
    "        print(\"Saved New Model\")\n",
    "        break\n",
    "    \n",
    "\n",
    "print(\"Accuracy: \", best_accuracy, \"F1 Score: \", best_f1)"
   ],
   "metadata": {
    "collapsed": false
   },
   "id": "3adfbebb93ec143"
  },
  {
   "cell_type": "markdown",
   "source": [],
   "metadata": {
    "collapsed": false
   },
   "id": "384c6f2478ba0be7"
  }
 ],
 "metadata": {
  "kernelspec": {
   "display_name": "Python 3",
   "language": "python",
   "name": "python3"
  },
  "language_info": {
   "codemirror_mode": {
    "name": "ipython",
    "version": 2
   },
   "file_extension": ".py",
   "mimetype": "text/x-python",
   "name": "python",
   "nbconvert_exporter": "python",
   "pygments_lexer": "ipython2",
   "version": "2.7.6"
  }
 },
 "nbformat": 4,
 "nbformat_minor": 5
}
